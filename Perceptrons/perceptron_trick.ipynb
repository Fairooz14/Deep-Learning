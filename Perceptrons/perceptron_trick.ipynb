{
 "cells": [
  {
   "cell_type": "markdown",
   "metadata": {},
   "source": [
    "Perceptron choosing random points to classify"
   ]
  },
  {
   "cell_type": "code",
   "execution_count": 332,
   "metadata": {},
   "outputs": [],
   "source": [
    "from sklearn.datasets import make_classification\n",
    "import numpy as np\n",
    "import matplotlib.pyplot as plt\n",
    "\n",
    "%matplotlib inline\n"
   ]
  },
  {
   "cell_type": "code",
   "execution_count": 333,
   "metadata": {},
   "outputs": [],
   "source": [
    "x, y = make_classification(n_samples=100, n_features=2, n_informative=1, n_redundant=0, n_clusters_per_class=1, hypercube=False, n_classes=2, random_state=41, class_sep=10)\n"
   ]
  },
  {
   "cell_type": "code",
   "execution_count": 334,
   "metadata": {},
   "outputs": [
    {
     "name": "stdout",
     "output_type": "stream",
     "text": [
      "(100, 2)\n",
      "(100,)\n"
     ]
    }
   ],
   "source": [
    "print(x.shape)\n",
    "print(y.shape)"
   ]
  },
  {
   "cell_type": "code",
   "execution_count": 335,
   "metadata": {},
   "outputs": [
    {
     "name": "stdout",
     "output_type": "stream",
     "text": [
      "(100, 3)\n"
     ]
    }
   ],
   "source": [
    "# add a column of ones to x to account for the bias term in the linear model\n",
    "x = np.insert(x, 0, 1, axis=1)\n",
    "print(x.shape)"
   ]
  },
  {
   "cell_type": "code",
   "execution_count": 336,
   "metadata": {},
   "outputs": [
    {
     "data": {
      "text/plain": [
       "array([[ 1.        ,  0.19924745, -0.11697552],\n",
       "       [ 1.        , -0.24882029, -0.73115232],\n",
       "       [ 1.        , -0.3544904 , -0.7081059 ],\n",
       "       [ 1.        , -1.59086506, -2.01199214],\n",
       "       [ 1.        , -0.20083951,  1.63493163],\n",
       "       [ 1.        , -0.83241122,  0.15599044],\n",
       "       [ 1.        , -1.79207014,  1.07782053],\n",
       "       [ 1.        ,  0.0856607 ,  0.80626713],\n",
       "       [ 1.        , -0.55865299,  0.74859527],\n",
       "       [ 1.        , -1.95974262,  0.75152794],\n",
       "       [ 1.        , -1.77828947, -0.90114581],\n",
       "       [ 1.        , -1.77985853, -0.1815243 ],\n",
       "       [ 1.        , -0.02194151, -2.98092432],\n",
       "       [ 1.        ,  0.80563431,  1.20500136],\n",
       "       [ 1.        , -1.82701214,  0.78302407],\n",
       "       [ 1.        ,  0.38730728,  0.42968688],\n",
       "       [ 1.        , -0.14108668, -0.73229726],\n",
       "       [ 1.        , -1.87955941, -0.83930476],\n",
       "       [ 1.        , -0.18232911,  0.83727062],\n",
       "       [ 1.        , -1.77059533, -0.10255323],\n",
       "       [ 1.        , -2.27658028,  0.65867001],\n",
       "       [ 1.        , -2.06519502,  0.92649819],\n",
       "       [ 1.        , -1.31690551,  0.10216193],\n",
       "       [ 1.        ,  1.61043259,  0.46886454],\n",
       "       [ 1.        , -1.21650394,  0.45432938],\n",
       "       [ 1.        ,  0.6139723 ,  1.8613386 ],\n",
       "       [ 1.        , -1.78760957, -0.79255991],\n",
       "       [ 1.        , -1.04149161, -1.0004391 ],\n",
       "       [ 1.        , -2.40067584, -0.53814137],\n",
       "       [ 1.        , -1.80383452,  0.44027716],\n",
       "       [ 1.        , -1.44075613,  0.27047889],\n",
       "       [ 1.        ,  1.34989978, -0.75869267],\n",
       "       [ 1.        ,  0.22520167,  0.6802322 ],\n",
       "       [ 1.        ,  0.53688527,  0.17018845],\n",
       "       [ 1.        ,  0.55483459, -1.01121977],\n",
       "       [ 1.        , -0.32178185, -0.8394709 ],\n",
       "       [ 1.        , -0.98821248,  0.90327412],\n",
       "       [ 1.        ,  0.67394805,  1.16981747],\n",
       "       [ 1.        , -1.60913592,  0.53461406],\n",
       "       [ 1.        ,  0.75727194, -0.22100631],\n",
       "       [ 1.        , -1.32591376, -0.64584571],\n",
       "       [ 1.        , -0.91783293,  0.21243302],\n",
       "       [ 1.        , -1.35578147,  0.98654083],\n",
       "       [ 1.        ,  1.46869659,  0.67382928],\n",
       "       [ 1.        , -0.80540713, -0.11323563],\n",
       "       [ 1.        ,  1.08059816,  0.91694693],\n",
       "       [ 1.        ,  0.14667326,  0.3645213 ],\n",
       "       [ 1.        , -1.37324548, -0.78470874],\n",
       "       [ 1.        , -1.09742089, -1.48004137],\n",
       "       [ 1.        , -0.92017476,  0.72931763],\n",
       "       [ 1.        ,  0.22020513, -0.60000139],\n",
       "       [ 1.        , -0.3515292 ,  0.14720034],\n",
       "       [ 1.        , -1.42135667,  0.35215601],\n",
       "       [ 1.        ,  0.94415309,  0.17388705],\n",
       "       [ 1.        ,  2.14488191, -0.17162755],\n",
       "       [ 1.        , -1.52699536,  0.03763193],\n",
       "       [ 1.        ,  1.0347932 ,  0.48360467],\n",
       "       [ 1.        , -2.05551135, -0.07909256],\n",
       "       [ 1.        , -1.33241395,  0.06158897],\n",
       "       [ 1.        , -0.10615042, -1.20413846],\n",
       "       [ 1.        ,  0.89910594,  0.77324391],\n",
       "       [ 1.        , -1.32152694,  0.7640092 ],\n",
       "       [ 1.        , -1.96489671,  1.57200032],\n",
       "       [ 1.        ,  0.97099786,  0.47296516],\n",
       "       [ 1.        ,  0.0520771 ,  0.0642074 ],\n",
       "       [ 1.        , -0.66393984,  1.52469135],\n",
       "       [ 1.        , -1.8937672 , -2.1450828 ],\n",
       "       [ 1.        ,  0.5941446 , -0.7701428 ],\n",
       "       [ 1.        , -1.55261523,  0.84455766],\n",
       "       [ 1.        , -0.9998803 ,  1.29753064],\n",
       "       [ 1.        , -2.39664251, -0.84276652],\n",
       "       [ 1.        ,  0.27537438,  2.0615874 ],\n",
       "       [ 1.        ,  1.0723376 , -0.3036533 ],\n",
       "       [ 1.        , -1.4577388 , -0.1656085 ],\n",
       "       [ 1.        ,  1.06667457,  1.16969713],\n",
       "       [ 1.        ,  0.67498344, -0.3038555 ],\n",
       "       [ 1.        , -2.18254559, -0.4788978 ],\n",
       "       [ 1.        ,  0.96395115,  0.28128262],\n",
       "       [ 1.        , -1.3155857 ,  0.70412341],\n",
       "       [ 1.        ,  0.7158603 ,  0.3757601 ],\n",
       "       [ 1.        , -0.16186654,  0.97247545],\n",
       "       [ 1.        ,  1.341869  ,  0.56868381],\n",
       "       [ 1.        , -1.46023043, -0.39767934],\n",
       "       [ 1.        ,  1.37645492, -1.08933729],\n",
       "       [ 1.        , -0.35770727, -1.81663939],\n",
       "       [ 1.        , -1.8640534 ,  1.41775924],\n",
       "       [ 1.        , -1.7826468 ,  0.27098296],\n",
       "       [ 1.        , -1.18927817, -0.56186639],\n",
       "       [ 1.        ,  0.26654845,  0.42168159],\n",
       "       [ 1.        , -1.28809059, -2.95373116],\n",
       "       [ 1.        ,  0.75163482,  0.19492133],\n",
       "       [ 1.        ,  1.16254252, -0.04578681],\n",
       "       [ 1.        , -1.15890056, -0.18860967],\n",
       "       [ 1.        , -1.48693688,  0.44635682],\n",
       "       [ 1.        ,  0.75292818, -1.49814775],\n",
       "       [ 1.        , -2.12332717,  0.66198774],\n",
       "       [ 1.        , -1.53599817,  0.07153265],\n",
       "       [ 1.        , -1.46034714,  0.32323638],\n",
       "       [ 1.        ,  0.83626582, -0.34574201],\n",
       "       [ 1.        , -0.26570627,  0.06499922]])"
      ]
     },
     "execution_count": 336,
     "metadata": {},
     "output_type": "execute_result"
    }
   ],
   "source": [
    "x"
   ]
  },
  {
   "cell_type": "code",
   "execution_count": 337,
   "metadata": {},
   "outputs": [
    {
     "data": {
      "image/png": "[encoded data removed]",
      "text/plain": [
       "<Figure size 1000x600 with 1 Axes>"
      ]
     },
     "metadata": {},
     "output_type": "display_data"
    }
   ],
   "source": [
    "plt.figure(figsize=(10, 6))\n",
    "plt.scatter(x[:, 1], x[:, 2], c=y, cmap='winter', s=10)\n",
    "plt.show()"
   ]
  },
  {
   "cell_type": "code",
   "execution_count": 338,
   "metadata": {},
   "outputs": [],
   "source": [
    "def perceptron(x, y, epochs=1000, learning_rate=0.1):\n",
    "    w = np.ones(x.shape[1])\n",
    "    for i in range(epochs):\n",
    "        j = np.random.randint(x.shape[0])\n",
    "        y_hat = step(np.dot(w, x[j]))\n",
    "        w += learning_rate * (y[j] - y_hat) * x[j]\n",
    "    return w[0], w[1:]"
   ]
  },
  {
   "cell_type": "code",
   "execution_count": 339,
   "metadata": {},
   "outputs": [],
   "source": [
    "# np.ones(3)\n",
    "# np.random.randint(x.shape[0])\n",
    "# step(-0.5)"
   ]
  },
  {
   "cell_type": "code",
   "execution_count": 340,
   "metadata": {},
   "outputs": [],
   "source": [
    "def step(z):\n",
    "    return 1 if z >= 0 else 0"
   ]
  },
  {
   "cell_type": "code",
   "execution_count": 341,
   "metadata": {},
   "outputs": [],
   "source": [
    "intercept, coef = perceptron(x, y)"
   ]
  },
  {
   "cell_type": "code",
   "execution_count": 342,
   "metadata": {},
   "outputs": [
    {
     "name": "stdout",
     "output_type": "stream",
     "text": [
      "1.0\n",
      "[1.39478894 0.0321595 ]\n"
     ]
    }
   ],
   "source": [
    "print(intercept)\n",
    "print(coef)"
   ]
  },
  {
   "cell_type": "code",
   "execution_count": 343,
   "metadata": {},
   "outputs": [],
   "source": [
    "# ax+by+c=0 to y=mx+b here, m=-a/b, b=-c/b ||| a = coef[0], b = coef[1], c = intercept\n",
    "m = -coef[0] / coef[1]\n",
    "b = -intercept / coef[1]"
   ]
  },
  {
   "cell_type": "code",
   "execution_count": 344,
   "metadata": {},
   "outputs": [],
   "source": [
    "x1 = np.linspace(-3, 3, 100)\n",
    "y1 = m * x1 + b"
   ]
  },
  {
   "cell_type": "code",
   "execution_count": 345,
   "metadata": {},
   "outputs": [
    {
     "data": {
      "image/png": "[encoded data removed]",
      "text/plain": [
       "<Figure size 1000x600 with 1 Axes>"
      ]
     },
     "metadata": {},
     "output_type": "display_data"
    }
   ],
   "source": [
    "plt.figure(figsize=(10, 6))\n",
    "plt.plot(x1, y1, c='red')\n",
    "plt.scatter(x[:, 1], x[:, 2], c=y, cmap='winter', s=10)\n",
    "plt.ylim(-3, 3)\n",
    "plt.show()"
   ]
  }
 ],
 "metadata": {
  "kernelspec": {
   "display_name": "Python 3",
   "language": "python",
   "name": "python3"
  },
  "language_info": {
   "codemirror_mode": {
    "name": "ipython",
    "version": 3
   },
   "file_extension": ".py",
   "mimetype": "text/x-python",
   "name": "python",
   "nbconvert_exporter": "python",
   "pygments_lexer": "ipython3",
   "version": "3.12.4"
  }
 },
 "nbformat": 4,
 "nbformat_minor": 2
}
