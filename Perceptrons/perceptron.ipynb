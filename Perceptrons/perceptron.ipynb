{
 "cells": [
  {
   "cell_type": "markdown",
   "metadata": {},
   "source": [
    "## Perceptron Calculation using Iris dataset"
   ]
  },
  {
   "cell_type": "code",
   "execution_count": 33,
   "metadata": {},
   "outputs": [],
   "source": [
    "import numpy as np\n",
    "import matplotlib.pyplot as plt\n",
    "import seaborn as sns\n",
    "import pandas as pd\n"
   ]
  },
  {
   "cell_type": "code",
   "execution_count": 34,
   "metadata": {},
   "outputs": [],
   "source": [
    "df = pd.read_csv('iris.data') # load the data"
   ]
  },
  {
   "cell_type": "code",
   "execution_count": 35,
   "metadata": {},
   "outputs": [
    {
     "data": {
      "text/html": [
       "<div>\n",
       "<style scoped>\n",
       "    .dataframe tbody tr th:only-of-type {\n",
       "        vertical-align: middle;\n",
       "    }\n",
       "\n",
       "    .dataframe tbody tr th {\n",
       "        vertical-align: top;\n",
       "    }\n",
       "\n",
       "    .dataframe thead th {\n",
       "        text-align: right;\n",
       "    }\n",
       "</style>\n",
       "<table border=\"1\" class=\"dataframe\">\n",
       "  <thead>\n",
       "    <tr style=\"text-align: right;\">\n",
       "      <th></th>\n",
       "      <th>5.1</th>\n",
       "      <th>3.5</th>\n",
       "      <th>1.4</th>\n",
       "      <th>0.2</th>\n",
       "      <th>Iris-setosa</th>\n",
       "    </tr>\n",
       "  </thead>\n",
       "  <tbody>\n",
       "    <tr>\n",
       "      <th>0</th>\n",
       "      <td>4.9</td>\n",
       "      <td>3.0</td>\n",
       "      <td>1.4</td>\n",
       "      <td>0.2</td>\n",
       "      <td>Iris-setosa</td>\n",
       "    </tr>\n",
       "    <tr>\n",
       "      <th>1</th>\n",
       "      <td>4.7</td>\n",
       "      <td>3.2</td>\n",
       "      <td>1.3</td>\n",
       "      <td>0.2</td>\n",
       "      <td>Iris-setosa</td>\n",
       "    </tr>\n",
       "    <tr>\n",
       "      <th>2</th>\n",
       "      <td>4.6</td>\n",
       "      <td>3.1</td>\n",
       "      <td>1.5</td>\n",
       "      <td>0.2</td>\n",
       "      <td>Iris-setosa</td>\n",
       "    </tr>\n",
       "    <tr>\n",
       "      <th>3</th>\n",
       "      <td>5.0</td>\n",
       "      <td>3.6</td>\n",
       "      <td>1.4</td>\n",
       "      <td>0.2</td>\n",
       "      <td>Iris-setosa</td>\n",
       "    </tr>\n",
       "    <tr>\n",
       "      <th>4</th>\n",
       "      <td>5.4</td>\n",
       "      <td>3.9</td>\n",
       "      <td>1.7</td>\n",
       "      <td>0.4</td>\n",
       "      <td>Iris-setosa</td>\n",
       "    </tr>\n",
       "  </tbody>\n",
       "</table>\n",
       "</div>"
      ],
      "text/plain": [
       "   5.1  3.5  1.4  0.2  Iris-setosa\n",
       "0  4.9  3.0  1.4  0.2  Iris-setosa\n",
       "1  4.7  3.2  1.3  0.2  Iris-setosa\n",
       "2  4.6  3.1  1.5  0.2  Iris-setosa\n",
       "3  5.0  3.6  1.4  0.2  Iris-setosa\n",
       "4  5.4  3.9  1.7  0.4  Iris-setosa"
      ]
     },
     "execution_count": 35,
     "metadata": {},
     "output_type": "execute_result"
    }
   ],
   "source": [
    "df.head() # show the first 5 rows of the data"
   ]
  },
  {
   "cell_type": "code",
   "execution_count": 36,
   "metadata": {},
   "outputs": [],
   "source": [
    "# rename the columns\n",
    "df.columns = ['sepal_length', 'sepal_width', 'petal_length', 'petal_width', 'species']"
   ]
  },
  {
   "cell_type": "code",
   "execution_count": 37,
   "metadata": {},
   "outputs": [
    {
     "data": {
      "text/html": [
       "<div>\n",
       "<style scoped>\n",
       "    .dataframe tbody tr th:only-of-type {\n",
       "        vertical-align: middle;\n",
       "    }\n",
       "\n",
       "    .dataframe tbody tr th {\n",
       "        vertical-align: top;\n",
       "    }\n",
       "\n",
       "    .dataframe thead th {\n",
       "        text-align: right;\n",
       "    }\n",
       "</style>\n",
       "<table border=\"1\" class=\"dataframe\">\n",
       "  <thead>\n",
       "    <tr style=\"text-align: right;\">\n",
       "      <th></th>\n",
       "      <th>sepal_length</th>\n",
       "      <th>sepal_width</th>\n",
       "      <th>petal_length</th>\n",
       "      <th>petal_width</th>\n",
       "      <th>species</th>\n",
       "    </tr>\n",
       "  </thead>\n",
       "  <tbody>\n",
       "    <tr>\n",
       "      <th>0</th>\n",
       "      <td>4.9</td>\n",
       "      <td>3.0</td>\n",
       "      <td>1.4</td>\n",
       "      <td>0.2</td>\n",
       "      <td>Iris-setosa</td>\n",
       "    </tr>\n",
       "    <tr>\n",
       "      <th>1</th>\n",
       "      <td>4.7</td>\n",
       "      <td>3.2</td>\n",
       "      <td>1.3</td>\n",
       "      <td>0.2</td>\n",
       "      <td>Iris-setosa</td>\n",
       "    </tr>\n",
       "    <tr>\n",
       "      <th>2</th>\n",
       "      <td>4.6</td>\n",
       "      <td>3.1</td>\n",
       "      <td>1.5</td>\n",
       "      <td>0.2</td>\n",
       "      <td>Iris-setosa</td>\n",
       "    </tr>\n",
       "    <tr>\n",
       "      <th>3</th>\n",
       "      <td>5.0</td>\n",
       "      <td>3.6</td>\n",
       "      <td>1.4</td>\n",
       "      <td>0.2</td>\n",
       "      <td>Iris-setosa</td>\n",
       "    </tr>\n",
       "    <tr>\n",
       "      <th>4</th>\n",
       "      <td>5.4</td>\n",
       "      <td>3.9</td>\n",
       "      <td>1.7</td>\n",
       "      <td>0.4</td>\n",
       "      <td>Iris-setosa</td>\n",
       "    </tr>\n",
       "  </tbody>\n",
       "</table>\n",
       "</div>"
      ],
      "text/plain": [
       "   sepal_length  sepal_width  petal_length  petal_width      species\n",
       "0           4.9          3.0           1.4          0.2  Iris-setosa\n",
       "1           4.7          3.2           1.3          0.2  Iris-setosa\n",
       "2           4.6          3.1           1.5          0.2  Iris-setosa\n",
       "3           5.0          3.6           1.4          0.2  Iris-setosa\n",
       "4           5.4          3.9           1.7          0.4  Iris-setosa"
      ]
     },
     "execution_count": 37,
     "metadata": {},
     "output_type": "execute_result"
    }
   ],
   "source": [
    "df.head()"
   ]
  },
  {
   "cell_type": "code",
   "execution_count": 38,
   "metadata": {},
   "outputs": [],
   "source": [
    "# sns.scatterplot(x='sepal_length', y='sepal_width', data=df, hue='species')\n",
    "df.drop(['sepal_length', 'sepal_width'], axis=1, inplace=True)\n"
   ]
  },
  {
   "cell_type": "code",
   "execution_count": 39,
   "metadata": {},
   "outputs": [
    {
     "data": {
      "text/html": [
       "<div>\n",
       "<style scoped>\n",
       "    .dataframe tbody tr th:only-of-type {\n",
       "        vertical-align: middle;\n",
       "    }\n",
       "\n",
       "    .dataframe tbody tr th {\n",
       "        vertical-align: top;\n",
       "    }\n",
       "\n",
       "    .dataframe thead th {\n",
       "        text-align: right;\n",
       "    }\n",
       "</style>\n",
       "<table border=\"1\" class=\"dataframe\">\n",
       "  <thead>\n",
       "    <tr style=\"text-align: right;\">\n",
       "      <th></th>\n",
       "      <th>petal_length</th>\n",
       "      <th>petal_width</th>\n",
       "      <th>species</th>\n",
       "    </tr>\n",
       "  </thead>\n",
       "  <tbody>\n",
       "    <tr>\n",
       "      <th>0</th>\n",
       "      <td>1.4</td>\n",
       "      <td>0.2</td>\n",
       "      <td>Iris-setosa</td>\n",
       "    </tr>\n",
       "    <tr>\n",
       "      <th>1</th>\n",
       "      <td>1.3</td>\n",
       "      <td>0.2</td>\n",
       "      <td>Iris-setosa</td>\n",
       "    </tr>\n",
       "    <tr>\n",
       "      <th>2</th>\n",
       "      <td>1.5</td>\n",
       "      <td>0.2</td>\n",
       "      <td>Iris-setosa</td>\n",
       "    </tr>\n",
       "    <tr>\n",
       "      <th>3</th>\n",
       "      <td>1.4</td>\n",
       "      <td>0.2</td>\n",
       "      <td>Iris-setosa</td>\n",
       "    </tr>\n",
       "    <tr>\n",
       "      <th>4</th>\n",
       "      <td>1.7</td>\n",
       "      <td>0.4</td>\n",
       "      <td>Iris-setosa</td>\n",
       "    </tr>\n",
       "  </tbody>\n",
       "</table>\n",
       "</div>"
      ],
      "text/plain": [
       "   petal_length  petal_width      species\n",
       "0           1.4          0.2  Iris-setosa\n",
       "1           1.3          0.2  Iris-setosa\n",
       "2           1.5          0.2  Iris-setosa\n",
       "3           1.4          0.2  Iris-setosa\n",
       "4           1.7          0.4  Iris-setosa"
      ]
     },
     "execution_count": 39,
     "metadata": {},
     "output_type": "execute_result"
    }
   ],
   "source": [
    "df.head()"
   ]
  },
  {
   "cell_type": "code",
   "execution_count": 40,
   "metadata": {},
   "outputs": [
    {
     "data": {
      "text/html": [
       "<div>\n",
       "<style scoped>\n",
       "    .dataframe tbody tr th:only-of-type {\n",
       "        vertical-align: middle;\n",
       "    }\n",
       "\n",
       "    .dataframe tbody tr th {\n",
       "        vertical-align: top;\n",
       "    }\n",
       "\n",
       "    .dataframe thead th {\n",
       "        text-align: right;\n",
       "    }\n",
       "</style>\n",
       "<table border=\"1\" class=\"dataframe\">\n",
       "  <thead>\n",
       "    <tr style=\"text-align: right;\">\n",
       "      <th></th>\n",
       "      <th>petal_length</th>\n",
       "      <th>petal_width</th>\n",
       "      <th>species</th>\n",
       "    </tr>\n",
       "  </thead>\n",
       "  <tbody>\n",
       "    <tr>\n",
       "      <th>0</th>\n",
       "      <td>1.4</td>\n",
       "      <td>0.2</td>\n",
       "      <td>Iris-setosa</td>\n",
       "    </tr>\n",
       "    <tr>\n",
       "      <th>1</th>\n",
       "      <td>1.3</td>\n",
       "      <td>0.2</td>\n",
       "      <td>Iris-setosa</td>\n",
       "    </tr>\n",
       "    <tr>\n",
       "      <th>2</th>\n",
       "      <td>1.5</td>\n",
       "      <td>0.2</td>\n",
       "      <td>Iris-setosa</td>\n",
       "    </tr>\n",
       "    <tr>\n",
       "      <th>3</th>\n",
       "      <td>1.4</td>\n",
       "      <td>0.2</td>\n",
       "      <td>Iris-setosa</td>\n",
       "    </tr>\n",
       "    <tr>\n",
       "      <th>4</th>\n",
       "      <td>1.7</td>\n",
       "      <td>0.4</td>\n",
       "      <td>Iris-setosa</td>\n",
       "    </tr>\n",
       "  </tbody>\n",
       "</table>\n",
       "</div>"
      ],
      "text/plain": [
       "   petal_length  petal_width      species\n",
       "0           1.4          0.2  Iris-setosa\n",
       "1           1.3          0.2  Iris-setosa\n",
       "2           1.5          0.2  Iris-setosa\n",
       "3           1.4          0.2  Iris-setosa\n",
       "4           1.7          0.4  Iris-setosa"
      ]
     },
     "execution_count": 40,
     "metadata": {},
     "output_type": "execute_result"
    }
   ],
   "source": [
    "df = df[df['species'] != 'Iris-versicolor']\n",
    "df.head()"
   ]
  },
  {
   "cell_type": "code",
   "execution_count": 41,
   "metadata": {},
   "outputs": [
    {
     "data": {
      "text/plain": [
       "<Axes: xlabel='petal_length', ylabel='petal_width'>"
      ]
     },
     "execution_count": 41,
     "metadata": {},
     "output_type": "execute_result"
    },
    {
     "data": {
      "image/png": "[encoded data removed]",
      "text/plain": [
       "<Figure size 640x480 with 1 Axes>"
      ]
     },
     "metadata": {},
     "output_type": "display_data"
    }
   ],
   "source": [
    "sns.scatterplot(x='petal_length', y='petal_width', data=df, hue='species')"
   ]
  },
  {
   "cell_type": "markdown",
   "metadata": {},
   "source": [
    "labeling the species : <br>\n",
    "if the species is Iris-setosa than the Perceptron will return -1 else will resturn 1 for Iris-virginica"
   ]
  },
  {
   "cell_type": "code",
   "execution_count": 42,
   "metadata": {},
   "outputs": [],
   "source": [
    "# Encode species labels (Iris-setosa = -1, Iris-virginica = 1)\n",
    "df[\"species\"] = df[\"species\"].apply(lambda x: -1 if x == \"Iris-setosa\" else 1)"
   ]
  },
  {
   "cell_type": "code",
   "execution_count": 43,
   "metadata": {},
   "outputs": [],
   "source": [
    "# Prepare data\n",
    "X = df[[\"petal_length\", \"petal_width\"]].values\n",
    "y = df[\"species\"].values"
   ]
  },
  {
   "cell_type": "code",
   "execution_count": 44,
   "metadata": {},
   "outputs": [],
   "source": [
    "# Initialize perceptron parameters\n",
    "weights = np.zeros(2)  # Two weights (for petal_length and petal_width)\n",
    "bias = 0\n",
    "learning_rate = 0.1\n",
    "epochs = 100"
   ]
  },
  {
   "cell_type": "markdown",
   "metadata": {},
   "source": [
    "Training Perceptron"
   ]
  },
  {
   "cell_type": "code",
   "execution_count": 45,
   "metadata": {},
   "outputs": [
    {
     "name": "stdout",
     "output_type": "stream",
     "text": [
      "Epoch 1, Sample 99, Weights: [0.6  0.25], Bias: 0.1\n",
      "Epoch 2, Sample 99, Weights: [0.04 0.17], Bias: -0.30000000000000004\n",
      "Epoch 3, Sample 99, Weights: [0.04 0.17], Bias: -0.30000000000000004\n",
      "Epoch 4, Sample 99, Weights: [0.04 0.17], Bias: -0.30000000000000004\n",
      "Epoch 5, Sample 99, Weights: [0.04 0.17], Bias: -0.30000000000000004\n",
      "Epoch 6, Sample 99, Weights: [0.04 0.17], Bias: -0.30000000000000004\n",
      "Epoch 7, Sample 99, Weights: [0.04 0.17], Bias: -0.30000000000000004\n",
      "Epoch 8, Sample 99, Weights: [0.04 0.17], Bias: -0.30000000000000004\n",
      "Epoch 9, Sample 99, Weights: [0.04 0.17], Bias: -0.30000000000000004\n",
      "Epoch 10, Sample 99, Weights: [0.04 0.17], Bias: -0.30000000000000004\n",
      "Epoch 11, Sample 99, Weights: [0.04 0.17], Bias: -0.30000000000000004\n",
      "Epoch 12, Sample 99, Weights: [0.04 0.17], Bias: -0.30000000000000004\n",
      "Epoch 13, Sample 99, Weights: [0.04 0.17], Bias: -0.30000000000000004\n",
      "Epoch 14, Sample 99, Weights: [0.04 0.17], Bias: -0.30000000000000004\n",
      "Epoch 15, Sample 99, Weights: [0.04 0.17], Bias: -0.30000000000000004\n",
      "Epoch 16, Sample 99, Weights: [0.04 0.17], Bias: -0.30000000000000004\n",
      "Epoch 17, Sample 99, Weights: [0.04 0.17], Bias: -0.30000000000000004\n",
      "Epoch 18, Sample 99, Weights: [0.04 0.17], Bias: -0.30000000000000004\n",
      "Epoch 19, Sample 99, Weights: [0.04 0.17], Bias: -0.30000000000000004\n",
      "Epoch 20, Sample 99, Weights: [0.04 0.17], Bias: -0.30000000000000004\n",
      "Epoch 21, Sample 99, Weights: [0.04 0.17], Bias: -0.30000000000000004\n",
      "Epoch 22, Sample 99, Weights: [0.04 0.17], Bias: -0.30000000000000004\n",
      "Epoch 23, Sample 99, Weights: [0.04 0.17], Bias: -0.30000000000000004\n",
      "Epoch 24, Sample 99, Weights: [0.04 0.17], Bias: -0.30000000000000004\n",
      "Epoch 25, Sample 99, Weights: [0.04 0.17], Bias: -0.30000000000000004\n",
      "Epoch 26, Sample 99, Weights: [0.04 0.17], Bias: -0.30000000000000004\n",
      "Epoch 27, Sample 99, Weights: [0.04 0.17], Bias: -0.30000000000000004\n",
      "Epoch 28, Sample 99, Weights: [0.04 0.17], Bias: -0.30000000000000004\n",
      "Epoch 29, Sample 99, Weights: [0.04 0.17], Bias: -0.30000000000000004\n",
      "Epoch 30, Sample 99, Weights: [0.04 0.17], Bias: -0.30000000000000004\n",
      "Epoch 31, Sample 99, Weights: [0.04 0.17], Bias: -0.30000000000000004\n",
      "Epoch 32, Sample 99, Weights: [0.04 0.17], Bias: -0.30000000000000004\n",
      "Epoch 33, Sample 99, Weights: [0.04 0.17], Bias: -0.30000000000000004\n",
      "Epoch 34, Sample 99, Weights: [0.04 0.17], Bias: -0.30000000000000004\n",
      "Epoch 35, Sample 99, Weights: [0.04 0.17], Bias: -0.30000000000000004\n",
      "Epoch 36, Sample 99, Weights: [0.04 0.17], Bias: -0.30000000000000004\n",
      "Epoch 37, Sample 99, Weights: [0.04 0.17], Bias: -0.30000000000000004\n",
      "Epoch 38, Sample 99, Weights: [0.04 0.17], Bias: -0.30000000000000004\n",
      "Epoch 39, Sample 99, Weights: [0.04 0.17], Bias: -0.30000000000000004\n",
      "Epoch 40, Sample 99, Weights: [0.04 0.17], Bias: -0.30000000000000004\n",
      "Epoch 41, Sample 99, Weights: [0.04 0.17], Bias: -0.30000000000000004\n",
      "Epoch 42, Sample 99, Weights: [0.04 0.17], Bias: -0.30000000000000004\n",
      "Epoch 43, Sample 99, Weights: [0.04 0.17], Bias: -0.30000000000000004\n",
      "Epoch 44, Sample 99, Weights: [0.04 0.17], Bias: -0.30000000000000004\n",
      "Epoch 45, Sample 99, Weights: [0.04 0.17], Bias: -0.30000000000000004\n",
      "Epoch 46, Sample 99, Weights: [0.04 0.17], Bias: -0.30000000000000004\n",
      "Epoch 47, Sample 99, Weights: [0.04 0.17], Bias: -0.30000000000000004\n",
      "Epoch 48, Sample 99, Weights: [0.04 0.17], Bias: -0.30000000000000004\n",
      "Epoch 49, Sample 99, Weights: [0.04 0.17], Bias: -0.30000000000000004\n",
      "Epoch 50, Sample 99, Weights: [0.04 0.17], Bias: -0.30000000000000004\n",
      "Epoch 51, Sample 99, Weights: [0.04 0.17], Bias: -0.30000000000000004\n",
      "Epoch 52, Sample 99, Weights: [0.04 0.17], Bias: -0.30000000000000004\n",
      "Epoch 53, Sample 99, Weights: [0.04 0.17], Bias: -0.30000000000000004\n",
      "Epoch 54, Sample 99, Weights: [0.04 0.17], Bias: -0.30000000000000004\n",
      "Epoch 55, Sample 99, Weights: [0.04 0.17], Bias: -0.30000000000000004\n",
      "Epoch 56, Sample 99, Weights: [0.04 0.17], Bias: -0.30000000000000004\n",
      "Epoch 57, Sample 99, Weights: [0.04 0.17], Bias: -0.30000000000000004\n",
      "Epoch 58, Sample 99, Weights: [0.04 0.17], Bias: -0.30000000000000004\n",
      "Epoch 59, Sample 99, Weights: [0.04 0.17], Bias: -0.30000000000000004\n",
      "Epoch 60, Sample 99, Weights: [0.04 0.17], Bias: -0.30000000000000004\n",
      "Epoch 61, Sample 99, Weights: [0.04 0.17], Bias: -0.30000000000000004\n",
      "Epoch 62, Sample 99, Weights: [0.04 0.17], Bias: -0.30000000000000004\n",
      "Epoch 63, Sample 99, Weights: [0.04 0.17], Bias: -0.30000000000000004\n",
      "Epoch 64, Sample 99, Weights: [0.04 0.17], Bias: -0.30000000000000004\n",
      "Epoch 65, Sample 99, Weights: [0.04 0.17], Bias: -0.30000000000000004\n",
      "Epoch 66, Sample 99, Weights: [0.04 0.17], Bias: -0.30000000000000004\n",
      "Epoch 67, Sample 99, Weights: [0.04 0.17], Bias: -0.30000000000000004\n",
      "Epoch 68, Sample 99, Weights: [0.04 0.17], Bias: -0.30000000000000004\n",
      "Epoch 69, Sample 99, Weights: [0.04 0.17], Bias: -0.30000000000000004\n",
      "Epoch 70, Sample 99, Weights: [0.04 0.17], Bias: -0.30000000000000004\n",
      "Epoch 71, Sample 99, Weights: [0.04 0.17], Bias: -0.30000000000000004\n",
      "Epoch 72, Sample 99, Weights: [0.04 0.17], Bias: -0.30000000000000004\n",
      "Epoch 73, Sample 99, Weights: [0.04 0.17], Bias: -0.30000000000000004\n",
      "Epoch 74, Sample 99, Weights: [0.04 0.17], Bias: -0.30000000000000004\n",
      "Epoch 75, Sample 99, Weights: [0.04 0.17], Bias: -0.30000000000000004\n",
      "Epoch 76, Sample 99, Weights: [0.04 0.17], Bias: -0.30000000000000004\n",
      "Epoch 77, Sample 99, Weights: [0.04 0.17], Bias: -0.30000000000000004\n",
      "Epoch 78, Sample 99, Weights: [0.04 0.17], Bias: -0.30000000000000004\n",
      "Epoch 79, Sample 99, Weights: [0.04 0.17], Bias: -0.30000000000000004\n",
      "Epoch 80, Sample 99, Weights: [0.04 0.17], Bias: -0.30000000000000004\n",
      "Epoch 81, Sample 99, Weights: [0.04 0.17], Bias: -0.30000000000000004\n",
      "Epoch 82, Sample 99, Weights: [0.04 0.17], Bias: -0.30000000000000004\n",
      "Epoch 83, Sample 99, Weights: [0.04 0.17], Bias: -0.30000000000000004\n",
      "Epoch 84, Sample 99, Weights: [0.04 0.17], Bias: -0.30000000000000004\n",
      "Epoch 85, Sample 99, Weights: [0.04 0.17], Bias: -0.30000000000000004\n",
      "Epoch 86, Sample 99, Weights: [0.04 0.17], Bias: -0.30000000000000004\n",
      "Epoch 87, Sample 99, Weights: [0.04 0.17], Bias: -0.30000000000000004\n",
      "Epoch 88, Sample 99, Weights: [0.04 0.17], Bias: -0.30000000000000004\n",
      "Epoch 89, Sample 99, Weights: [0.04 0.17], Bias: -0.30000000000000004\n",
      "Epoch 90, Sample 99, Weights: [0.04 0.17], Bias: -0.30000000000000004\n",
      "Epoch 91, Sample 99, Weights: [0.04 0.17], Bias: -0.30000000000000004\n",
      "Epoch 92, Sample 99, Weights: [0.04 0.17], Bias: -0.30000000000000004\n",
      "Epoch 93, Sample 99, Weights: [0.04 0.17], Bias: -0.30000000000000004\n",
      "Epoch 94, Sample 99, Weights: [0.04 0.17], Bias: -0.30000000000000004\n",
      "Epoch 95, Sample 99, Weights: [0.04 0.17], Bias: -0.30000000000000004\n",
      "Epoch 96, Sample 99, Weights: [0.04 0.17], Bias: -0.30000000000000004\n",
      "Epoch 97, Sample 99, Weights: [0.04 0.17], Bias: -0.30000000000000004\n",
      "Epoch 98, Sample 99, Weights: [0.04 0.17], Bias: -0.30000000000000004\n",
      "Epoch 99, Sample 99, Weights: [0.04 0.17], Bias: -0.30000000000000004\n",
      "Epoch 100, Sample 99, Weights: [0.04 0.17], Bias: -0.30000000000000004\n"
     ]
    }
   ],
   "source": [
    "# Perceptron Training\n",
    "for epoch in range(epochs):\n",
    "    for i in range(len(y)):\n",
    "        prediction = np.dot(weights, X[i]) + bias  # Linear function (w*x + b)------ the line boundary\n",
    "        predicted_label = 1 if prediction > 0 else -1  # Step function or activation function\n",
    "        \n",
    "        # Update rule: w = w + learning_rate * (actual - predicted) * x\n",
    "        if predicted_label != y[i]:  \n",
    "            weights += learning_rate * y[i] * X[i]\n",
    "            bias += learning_rate * y[i]\n",
    "    print(f\"Epoch {epoch+1}, Sample {i+1}, Weights: {weights}, Bias: {bias}\")"
   ]
  },
  {
   "cell_type": "markdown",
   "metadata": {},
   "source": [
    "So, the calculated weight for Patel_length (w1)=0.04, weight for Patel_width (w2)=0.17 and the bisa (b) = -0.304"
   ]
  },
  {
   "cell_type": "code",
   "execution_count": 46,
   "metadata": {},
   "outputs": [],
   "source": [
    "# Define decision boundary\n",
    "x_min, x_max = X[:, 0].min() - 0.5, X[:, 0].max() + 0.5\n",
    "y_min, y_max = X[:, 1].min() - 0.5, X[:, 1].max() + 0.5\n",
    "xx, yy = np.meshgrid(np.linspace(x_min, x_max, 100), np.linspace(y_min, y_max, 100))\n"
   ]
  },
  {
   "cell_type": "code",
   "execution_count": 47,
   "metadata": {},
   "outputs": [],
   "source": [
    "# decision boundary (w1 * x + w2 * y + bias = 0) -> y = (-w1/w2) * x - (bias/w2)\n",
    "Z = np.sign(weights[0] * xx + weights[1] * yy + bias)\n"
   ]
  },
  {
   "cell_type": "code",
   "execution_count": 48,
   "metadata": {},
   "outputs": [
    {
     "data": {
      "image/png": "[encoded data removed]",
      "text/plain": [
       "<Figure size 800x600 with 1 Axes>"
      ]
     },
     "metadata": {},
     "output_type": "display_data"
    }
   ],
   "source": [
    "# Plot decision boundary\n",
    "plt.figure(figsize=(8, 6))\n",
    "plt.contourf(xx, yy, Z, alpha=0.3, cmap=\"coolwarm\")\n",
    "# Scatter plot of actual data points\n",
    "plt.scatter(X[:, 0], X[:, 1], c=y, cmap=\"coolwarm\", edgecolors=\"k\", marker=\"o\", label=\"Data Points\")\n",
    "# Labels and title\n",
    "plt.xlabel(\"Petal Length\")\n",
    "plt.ylabel(\"Petal Width\")\n",
    "plt.title(\"Perceptron Decision Boundary for Iris-setosa and Iris-virginica\")\n",
    "plt.legend([\"Decision Boundary\", \"Iris-setosa\", \"Iris-virginica\"])\n",
    "plt.show()\n"
   ]
  }
 ],
 "metadata": {
  "kernelspec": {
   "display_name": "Python 3",
   "language": "python",
   "name": "python3"
  },
  "language_info": {
   "codemirror_mode": {
    "name": "ipython",
    "version": 3
   },
   "file_extension": ".py",
   "mimetype": "text/x-python",
   "name": "python",
   "nbconvert_exporter": "python",
   "pygments_lexer": "ipython3",
   "version": "3.12.4"
  }
 },
 "nbformat": 4,
 "nbformat_minor": 2
}
